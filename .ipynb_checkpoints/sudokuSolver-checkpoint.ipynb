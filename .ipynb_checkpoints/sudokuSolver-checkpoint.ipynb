{
 "cells": [
  {
   "cell_type": "markdown",
   "metadata": {},
   "source": [
    "**squares** = A1\n",
    "\n",
    "**unit** = collection of nine squares, being either one full row, column, or box\n",
    "\n",
    "**peers** = squares that share a unit"
   ]
  },
  {
   "cell_type": "markdown",
   "metadata": {},
   "source": [
    "## Emilio"
   ]
  },
  {
   "cell_type": "code",
   "execution_count": 1,
   "metadata": {},
   "outputs": [
    {
     "name": "stdout",
     "output_type": "stream",
     "text": [
      "{'A1': {'B2', 'F1', 'A2', 'H1', 'D1', 'C2', 'A3', 'C1', 'A6', 'A5', 'I1', 'A7', 'A9', 'C3', 'A8', 'E1', 'B1', 'A4', 'G1', 'B3'}, 'A2': {'B2', 'A1', 'F2', 'C2', 'A3', 'G2', 'E2', 'C1', 'I2', 'A6', 'A5', 'A7', 'A9', 'C3', 'A8', 'B1', 'A4', 'H2', 'D2', 'B3'}, 'A3': {'B2', 'A2', 'A1', 'G3', 'C2', 'I3', 'H3', 'C1', 'D3', 'A6', 'A5', 'A7', 'F3', 'A9', 'C3', 'A8', 'B1', 'A4', 'E3', 'B3'}, 'A4': {'F4', 'I4', 'A2', 'A1', 'C5', 'E4', 'A3', 'B4', 'D4', 'H4', 'A6', 'A5', 'B6', 'A7', 'A9', 'C4', 'A8', 'G4', 'B5', 'C6'}, 'A5': {'A2', 'A1', 'C5', 'A3', 'B4', 'F5', 'I5', 'E5', 'A6', 'B6', 'A7', 'A9', 'G5', 'A8', 'C4', 'H5', 'A4', 'D5', 'B5', 'C6'}, 'A6': {'A2', 'A1', 'I6', 'C5', 'A3', 'H6', 'B4', 'D6', 'F6', 'A5', 'B6', 'A7', 'A9', 'A8', 'C4', 'E6', 'G6', 'A4', 'B5', 'C6'}, 'A7': {'H7', 'G7', 'C7', 'A2', 'A1', 'C8', 'E7', 'A3', 'I7', 'B8', 'B9', 'D7', 'A6', 'A5', 'A9', 'A8', 'C9', 'A4', 'F7', 'B7'}, 'A8': {'C7', 'B7', 'I8', 'A2', 'C8', 'G8', 'A3', 'B8', 'D8', 'B9', 'E8', 'F8', 'A6', 'A5', 'A7', 'A9', 'C9', 'H8', 'A4', 'A1'}, 'A9': {'C7', 'B7', 'I9', 'A2', 'C8', 'D9', 'G9', 'A3', 'H9', 'B8', 'B9', 'A6', 'F9', 'A5', 'A7', 'A8', 'C9', 'A4', 'E9', 'A1'}, 'B1': {'B2', 'F1', 'B7', 'A2', 'B3', 'H1', 'D1', 'C2', 'A3', 'B8', 'B4', 'B9', 'C1', 'B6', 'I1', 'C3', 'E1', 'G1', 'B5', 'A1'}, 'B2': {'B7', 'A2', 'F2', 'B3', 'C2', 'A3', 'B8', 'G2', 'B4', 'B9', 'E2', 'C1', 'I2', 'B6', 'C3', 'B1', 'H2', 'D2', 'B5', 'A1'}, 'B3': {'B2', 'B7', 'A2', 'G3', 'C2', 'I3', 'H3', 'A3', 'B8', 'B4', 'B9', 'C1', 'D3', 'B6', 'F3', 'C3', 'B1', 'E3', 'B5', 'A1'}, 'B4': {'B2', 'F4', 'B7', 'I4', 'C5', 'E4', 'B8', 'C6', 'B9', 'D4', 'H4', 'A6', 'A5', 'B6', 'C4', 'G4', 'B1', 'A4', 'B5', 'B3'}, 'B5': {'B2', 'B7', 'C5', 'B8', 'B4', 'F5', 'C6', 'B9', 'I5', 'E5', 'A6', 'A5', 'B6', 'G5', 'C4', 'B1', 'H5', 'A4', 'D5', 'B3'}, 'B6': {'B2', 'B7', 'I6', 'C5', 'H6', 'B8', 'B4', 'C6', 'B9', 'D6', 'F6', 'A6', 'A5', 'C4', 'B1', 'E6', 'G6', 'A4', 'B5', 'B3'}, 'B7': {'B2', 'H7', 'G7', 'C7', 'C8', 'E7', 'B8', 'I7', 'B4', 'B9', 'D7', 'A7', 'B6', 'A9', 'A8', 'C9', 'B1', 'F7', 'B5', 'B3'}, 'B8': {'B2', 'C7', 'B7', 'I8', 'C8', 'G8', 'B4', 'D8', 'B9', 'E8', 'F8', 'A7', 'B6', 'A9', 'A8', 'C9', 'H8', 'B1', 'B5', 'B3'}, 'B9': {'B2', 'C7', 'B7', 'I9', 'C8', 'D9', 'G9', 'H9', 'B8', 'B4', 'F9', 'B6', 'A7', 'A9', 'A8', 'C9', 'B1', 'E9', 'B5', 'B3'}, 'C1': {'B2', 'F1', 'C7', 'A2', 'B3', 'H1', 'D1', 'C8', 'C2', 'C5', 'A3', 'C6', 'I1', 'C3', 'C9', 'E1', 'C4', 'B1', 'G1', 'A1'}, 'C2': {'B2', 'C7', 'A2', 'A1', 'F2', 'C8', 'C5', 'A3', 'G2', 'C6', 'E2', 'C1', 'I2', 'C3', 'C9', 'C4', 'B1', 'H2', 'D2', 'B3'}, 'C3': {'B2', 'C7', 'A2', 'A1', 'C8', 'G3', 'C2', 'C5', 'I3', 'H3', 'A3', 'C6', 'C1', 'D3', 'F3', 'C9', 'C4', 'B1', 'E3', 'B3'}, 'C4': {'F4', 'C7', 'I4', 'C8', 'C5', 'E4', 'C2', 'B4', 'C1', 'D4', 'H4', 'A6', 'A5', 'B6', 'C3', 'C9', 'G4', 'A4', 'B5', 'C6'}, 'C5': {'C7', 'C8', 'C2', 'B4', 'F5', 'C6', 'I5', 'C1', 'A6', 'A5', 'B6', 'G5', 'C3', 'C9', 'C4', 'H5', 'A4', 'D5', 'B5', 'E5'}, 'C6': {'C7', 'I6', 'C8', 'C5', 'C2', 'H6', 'B4', 'D6', 'C1', 'F6', 'A6', 'A5', 'B6', 'C3', 'C9', 'C4', 'E6', 'G6', 'A4', 'B5'}, 'C7': {'H7', 'G7', 'C8', 'C5', 'C2', 'E7', 'I7', 'B8', 'C6', 'B9', 'C1', 'D7', 'A7', 'A9', 'C3', 'C9', 'C4', 'A8', 'F7', 'B7'}, 'C8': {'C7', 'I8', 'C5', 'C2', 'G8', 'B8', 'D8', 'C6', 'B9', 'C1', 'E8', 'F8', 'A7', 'A9', 'C3', 'C9', 'A8', 'C4', 'H8', 'B7'}, 'C9': {'C7', 'I9', 'C8', 'D9', 'C2', 'C5', 'G9', 'H9', 'B8', 'C6', 'B9', 'C1', 'F9', 'A7', 'A9', 'C3', 'C4', 'A8', 'E9', 'B7'}, 'D1': {'F1', 'F2', 'H1', 'D9', 'D2', 'D8', 'E2', 'D6', 'C1', 'D4', 'D7', 'D3', 'I1', 'F3', 'E1', 'B1', 'G1', 'E3', 'D5', 'A1'}, 'D2': {'B2', 'F1', 'A2', 'F2', 'D1', 'D9', 'C2', 'G2', 'D8', 'E2', 'D6', 'D4', 'I2', 'D7', 'D3', 'F3', 'E1', 'H2', 'E3', 'D5'}, 'D3': {'F1', 'F2', 'D1', 'G3', 'D9', 'I3', 'H3', 'D2', 'A3', 'D8', 'E2', 'D6', 'D4', 'D7', 'F3', 'C3', 'E1', 'E3', 'D5', 'B3'}, 'D4': {'F4', 'I4', 'D1', 'D9', 'E4', 'D2', 'B4', 'F5', 'D8', 'D6', 'F6', 'H4', 'D7', 'D3', 'C4', 'G4', 'E6', 'A4', 'D5', 'E5'}, 'D5': {'F4', 'D1', 'D9', 'E4', 'C5', 'D2', 'F5', 'D8', 'I5', 'D6', 'F6', 'D4', 'D7', 'D3', 'A5', 'G5', 'H5', 'E6', 'B5', 'E5'}, 'D6': {'F4', 'I6', 'D1', 'D9', 'E4', 'D2', 'H6', 'F5', 'D8', 'F6', 'D4', 'D7', 'D3', 'A6', 'E5', 'B6', 'E6', 'G6', 'D5', 'C6'}, 'D7': {'H7', 'G7', 'C7', 'D1', 'D9', 'D2', 'E7', 'I7', 'D8', 'D6', 'E8', 'D4', 'F8', 'D3', 'F9', 'A7', 'F7', 'E9', 'D5', 'B7'}, 'D8': {'I8', 'C8', 'D1', 'D9', 'D2', 'E7', 'G8', 'B8', 'D6', 'E8', 'D4', 'F8', 'D7', 'D3', 'F9', 'A8', 'H8', 'F7', 'E9', 'D5'}, 'D9': {'I9', 'D1', 'G9', 'D2', 'E7', 'H9', 'D8', 'B9', 'D6', 'E8', 'D4', 'F8', 'D7', 'D3', 'F9', 'A9', 'C9', 'F7', 'E9', 'D5'}, 'E1': {'F1', 'F2', 'H1', 'D1', 'E4', 'E7', 'E2', 'C1', 'E8', 'E5', 'D3', 'I1', 'F3', 'B1', 'E6', 'G1', 'E3', 'E9', 'D2', 'A1'}, 'E2': {'B2', 'F1', 'A2', 'F2', 'D1', 'C2', 'E4', 'E7', 'G2', 'E8', 'I2', 'D3', 'F3', 'E1', 'E6', 'H2', 'E3', 'E9', 'D2', 'E5'}, 'E3': {'F1', 'F2', 'D1', 'G3', 'E4', 'I3', 'H3', 'E7', 'A3', 'E2', 'E8', 'E5', 'D3', 'F3', 'C3', 'E1', 'E6', 'E9', 'D2', 'B3'}, 'E4': {'F4', 'I4', 'E7', 'B4', 'F5', 'E2', 'D6', 'E8', 'F6', 'D4', 'H4', 'C4', 'E1', 'G4', 'E6', 'A4', 'E3', 'E9', 'D5', 'E5'}, 'E5': {'F4', 'C5', 'E4', 'E7', 'F5', 'E2', 'I5', 'D6', 'E8', 'F6', 'D4', 'A5', 'G5', 'E1', 'H5', 'E6', 'E3', 'E9', 'D5', 'B5'}, 'E6': {'F4', 'I6', 'E4', 'E7', 'H6', 'F5', 'E2', 'D6', 'E8', 'F6', 'D4', 'E5', 'A6', 'B6', 'E1', 'G6', 'E3', 'E9', 'D5', 'C6'}, 'E7': {'H7', 'G7', 'C7', 'D9', 'E4', 'I7', 'D8', 'E2', 'E8', 'F8', 'D7', 'E5', 'F9', 'A7', 'E1', 'E6', 'F7', 'E3', 'E9', 'B7'}, 'E8': {'I8', 'C8', 'D9', 'E4', 'E7', 'G8', 'B8', 'D8', 'E2', 'F8', 'D7', 'F9', 'A8', 'E1', 'H8', 'E6', 'F7', 'E3', 'E9', 'E5'}, 'E9': {'I9', 'D9', 'E4', 'G9', 'E7', 'H9', 'D8', 'B9', 'E2', 'E8', 'F8', 'D7', 'F9', 'A9', 'C9', 'E1', 'E6', 'F7', 'E3', 'E5'}, 'F1': {'F4', 'F2', 'H1', 'D1', 'F5', 'E2', 'C1', 'F6', 'F8', 'D3', 'F9', 'I1', 'F3', 'E1', 'B1', 'G1', 'F7', 'E3', 'D2', 'A1'}, 'F2': {'B2', 'F4', 'F1', 'A2', 'D1', 'C2', 'G2', 'F5', 'E2', 'F6', 'I2', 'F8', 'D3', 'F9', 'F3', 'E1', 'H2', 'F7', 'E3', 'D2'}, 'F3': {'F4', 'F1', 'F2', 'D1', 'G3', 'I3', 'H3', 'A3', 'F5', 'E2', 'F6', 'F8', 'D3', 'F9', 'C3', 'E1', 'F7', 'E3', 'D2', 'B3'}, 'F4': {'F1', 'I4', 'F2', 'E4', 'B4', 'F5', 'D6', 'F6', 'D4', 'F8', 'H4', 'F9', 'F3', 'C4', 'G4', 'E6', 'A4', 'F7', 'D5', 'E5'}, 'F5': {'F4', 'F1', 'F2', 'C5', 'E4', 'I5', 'D6', 'F6', 'D4', 'F8', 'F9', 'A5', 'F3', 'G5', 'H5', 'E6', 'F7', 'D5', 'B5', 'E5'}, 'F6': {'F4', 'F1', 'F2', 'I6', 'E4', 'H6', 'F5', 'C6', 'D6', 'D4', 'F8', 'A6', 'F9', 'B6', 'F3', 'E6', 'G6', 'F7', 'D5', 'E5'}, 'F7': {'H7', 'G7', 'F4', 'C7', 'F1', 'F2', 'D9', 'E7', 'I7', 'F5', 'D8', 'E8', 'F6', 'F8', 'D7', 'F9', 'A7', 'F3', 'E9', 'B7'}, 'F8': {'F4', 'F1', 'I8', 'F2', 'C8', 'D9', 'E7', 'G8', 'B8', 'F5', 'D8', 'E8', 'F6', 'D7', 'F9', 'F3', 'A8', 'H8', 'F7', 'E9'}, 'F9': {'F4', 'F1', 'I9', 'F2', 'D9', 'G9', 'E7', 'H9', 'F5', 'D8', 'B9', 'E8', 'F6', 'F8', 'D7', 'A9', 'F3', 'C9', 'F7', 'E9'}, 'G1': {'F1', 'G7', 'H2', 'H1', 'D1', 'G3', 'I3', 'G9', 'H3', 'G8', 'G2', 'C1', 'I2', 'I1', 'G5', 'E1', 'G4', 'B1', 'G6', 'A1'}, 'G2': {'B2', 'G7', 'A2', 'H2', 'F2', 'H1', 'G3', 'C2', 'I3', 'G9', 'H3', 'G8', 'G1', 'E2', 'I2', 'I1', 'G5', 'G4', 'G6', 'D2'}, 'G3': {'G7', 'H2', 'H1', 'I3', 'H3', 'G9', 'G8', 'A3', 'G2', 'G1', 'I2', 'D3', 'I1', 'F3', 'C3', 'G5', 'G4', 'G6', 'E3', 'B3'}, 'G4': {'F4', 'G7', 'I4', 'I6', 'G3', 'E4', 'G9', 'G8', 'H6', 'G2', 'B4', 'G1', 'I5', 'D4', 'H4', 'G5', 'C4', 'H5', 'A4', 'G6'}, 'G5': {'G7', 'I4', 'I6', 'C5', 'G3', 'G9', 'G8', 'H6', 'G2', 'F5', 'G1', 'I5', 'H4', 'A5', 'G4', 'H5', 'G6', 'D5', 'B5', 'E5'}, 'G6': {'G7', 'I4', 'I6', 'G3', 'G9', 'G8', 'H6', 'G2', 'G1', 'D6', 'I5', 'F6', 'H4', 'A6', 'B6', 'G5', 'G4', 'H5', 'E6', 'C6'}, 'G7': {'H7', 'C7', 'I8', 'I9', 'G3', 'G9', 'E7', 'G8', 'H9', 'I7', 'G2', 'G1', 'D7', 'A7', 'G5', 'H8', 'G4', 'G6', 'F7', 'B7'}, 'G8': {'H7', 'G7', 'I8', 'I9', 'C8', 'G3', 'G9', 'H9', 'B8', 'G2', 'I7', 'D8', 'G1', 'E8', 'F8', 'G5', 'A8', 'H8', 'G4', 'G6'}, 'G9': {'H7', 'G7', 'I8', 'I9', 'D9', 'G3', 'G8', 'H9', 'I7', 'G2', 'G1', 'B9', 'F9', 'A9', 'G5', 'C9', 'H8', 'G4', 'G6', 'E9'}, 'H1': {'H7', 'F1', 'D1', 'G3', 'I3', 'H3', 'H6', 'H9', 'G2', 'G1', 'C1', 'I2', 'H4', 'I1', 'E1', 'H8', 'B1', 'H5', 'H2', 'A1'}, 'H2': {'B2', 'H7', 'A2', 'F2', 'H1', 'G3', 'C2', 'I3', 'H3', 'H6', 'H9', 'G2', 'G1', 'E2', 'I2', 'H4', 'I1', 'H8', 'H5', 'D2'}, 'H3': {'H7', 'H1', 'G3', 'I3', 'H6', 'H9', 'A3', 'G2', 'G1', 'I2', 'H4', 'D3', 'I1', 'F3', 'C3', 'H8', 'H5', 'H2', 'E3', 'B3'}, 'H4': {'F4', 'H7', 'I4', 'H2', 'I6', 'H1', 'E4', 'H3', 'H6', 'H9', 'B4', 'I5', 'D4', 'G5', 'C4', 'H8', 'G4', 'H5', 'A4', 'G6'}, 'H5': {'H7', 'I4', 'H2', 'I6', 'H1', 'C5', 'H3', 'H6', 'H9', 'F5', 'I5', 'H4', 'A5', 'G5', 'H8', 'G4', 'G6', 'D5', 'B5', 'E5'}, 'H6': {'H7', 'I4', 'G6', 'I6', 'H1', 'H3', 'H9', 'D6', 'I5', 'F6', 'H4', 'A6', 'B6', 'G5', 'H8', 'G4', 'H5', 'E6', 'H2', 'C6'}, 'H7': {'G7', 'C7', 'I8', 'I9', 'H1', 'H3', 'G9', 'E7', 'G8', 'H9', 'H6', 'I7', 'H4', 'D7', 'A7', 'H8', 'H5', 'H2', 'F7', 'B7'}, 'H8': {'H7', 'G7', 'I8', 'I9', 'H1', 'C8', 'H3', 'G9', 'G8', 'H9', 'H6', 'B8', 'I7', 'D8', 'E8', 'F8', 'H4', 'A8', 'H5', 'H2'}, 'H9': {'H7', 'G7', 'I8', 'I9', 'H1', 'D9', 'G9', 'H3', 'G8', 'H6', 'I7', 'B9', 'H4', 'F9', 'A9', 'C9', 'H8', 'H5', 'H2', 'E9'}, 'I1': {'F1', 'I4', 'I8', 'I9', 'I6', 'H1', 'D1', 'G3', 'I3', 'H3', 'I7', 'G2', 'G1', 'I5', 'C1', 'I2', 'E1', 'B1', 'H2', 'A1'}, 'I2': {'B2', 'I4', 'I8', 'I9', 'A2', 'F2', 'I6', 'H1', 'G3', 'C2', 'I3', 'H3', 'I7', 'G2', 'G1', 'E2', 'I5', 'I1', 'H2', 'D2'}, 'I3': {'I4', 'I8', 'I9', 'I6', 'H1', 'G3', 'H3', 'A3', 'I7', 'G2', 'G1', 'I5', 'I2', 'D3', 'I1', 'F3', 'C3', 'H2', 'E3', 'B3'}, 'I4': {'F4', 'I8', 'I9', 'I6', 'E4', 'I3', 'H6', 'I7', 'B4', 'I5', 'D4', 'I2', 'H4', 'I1', 'G5', 'C4', 'G4', 'H5', 'A4', 'G6'}, 'I5': {'I4', 'I8', 'I9', 'I6', 'C5', 'I3', 'H6', 'I7', 'F5', 'I2', 'H4', 'A5', 'I1', 'G5', 'G4', 'H5', 'G6', 'D5', 'B5', 'E5'}, 'I6': {'I4', 'I8', 'I9', 'I3', 'H6', 'I7', 'D6', 'I5', 'F6', 'I2', 'H4', 'A6', 'B6', 'I1', 'G5', 'G4', 'H5', 'E6', 'G6', 'C6'}, 'I7': {'H7', 'G7', 'C7', 'I4', 'I8', 'I9', 'I6', 'I3', 'G9', 'E7', 'G8', 'H9', 'I5', 'I2', 'D7', 'A7', 'I1', 'H8', 'F7', 'B7'}, 'I8': {'H7', 'G7', 'I4', 'I9', 'I6', 'C8', 'I3', 'G9', 'G8', 'H9', 'I7', 'B8', 'D8', 'I5', 'E8', 'F8', 'I2', 'I1', 'A8', 'H8'}, 'I9': {'H7', 'G7', 'I4', 'I8', 'I6', 'D9', 'I3', 'G9', 'G8', 'H9', 'I7', 'B9', 'I5', 'I2', 'F9', 'A9', 'I1', 'C9', 'H8', 'E9'}}\n"
     ]
    }
   ],
   "source": [
    "import json\n",
    "\n",
    "def cross(A, B):\n",
    "    \"Cross product of elements in A and elements in B.\"\n",
    "    return [a+b for a in A for b in B]\n",
    "\n",
    "digits   = '123456789'\n",
    "rows     = 'ABCDEFGHI'\n",
    "cols     = digits\n",
    "squares  = cross(rows, cols)\n",
    "unitlist = ([cross(rows, c) for c in cols] +\n",
    "            [cross(r, cols) for r in rows] +\n",
    "            [cross(rs, cs) for rs in ('ABC','DEF','GHI') for cs in ('123','456','789')])\n",
    "units = dict((s, [u for u in unitlist if s in u]) for s in squares)\n",
    "peers = dict((s, set(sum(units[s],[]))-set([s])) for s in squares)\n",
    "print(peers)\n",
    "\n",
    "# print([u for u in unitlist])"
   ]
  },
  {
   "cell_type": "markdown",
   "metadata": {},
   "source": [
    "## Roberto"
   ]
  },
  {
   "cell_type": "code",
   "execution_count": 13,
   "metadata": {},
   "outputs": [
    {
     "name": "stdout",
     "output_type": "stream",
     "text": [
      "All tests pass.\n"
     ]
    }
   ],
   "source": [
    "# Esta funcion se encarga de hacer pruebas \n",
    "# para determinar que el sudoku tenga una configuración valido.\n",
    "def test():\n",
    "    # \"A set of unit tests.\"\n",
    "    \n",
    "    # Verificar que el sudoku thenga 81 cuadrados (grid 9x9).\n",
    "    assert len(squares) == 81\n",
    "    \n",
    "    # Verificar que haya 27 unidades (cada cuaraante mas las filas y las columnas de cada uno).\n",
    "    assert len(unitlist) == 27\n",
    "    \n",
    "    # Verificar que una unidad tenga tres elementos (cuadrante, fila y columna).\n",
    "    assert all(len(units[s]) == 3 for s in squares)\n",
    "    \n",
    "    # Verificar que haya 20 elementos que compartan una unidad.\n",
    "    assert all(len(peers[s]) == 20 for s in squares)\n",
    "    \n",
    "    # Verificar que C2 tenga las columnas y filas correctas.\n",
    "    assert units['C2'] == [['A2', 'B2', 'C2', 'D2', 'E2', 'F2', 'G2', 'H2', 'I2'],\n",
    "                           ['C1', 'C2', 'C3', 'C4', 'C5', 'C6', 'C7', 'C8', 'C9'],\n",
    "                           ['A1', 'A2', 'A3', 'B1', 'B2', 'B3', 'C1', 'C2', 'C3']]\n",
    "    \n",
    "    # Verificar que el cuadrante donde esta C2 sea correcto. \n",
    "    assert peers['C2'] == set(['A2', 'B2', 'D2', 'E2', 'F2', 'G2', 'H2', 'I2',\n",
    "                               'C1', 'C3', 'C4', 'C5', 'C6', 'C7', 'C8', 'C9',\n",
    "                               'A1', 'A3', 'B1', 'B3'])\n",
    "    # Imprimir que las pruebas fueron exitosas.\n",
    "    print('All tests pass.')\n",
    "    \n",
    "test()"
   ]
  },
  {
   "cell_type": "markdown",
   "metadata": {},
   "source": [
    "## Emilio"
   ]
  },
  {
   "cell_type": "code",
   "execution_count": 2,
   "metadata": {},
   "outputs": [],
   "source": [
    "def parse_grid(grid):\n",
    "    \"\"\"Convert grid to a dict of possible values, {square: digits}, or\n",
    "    return False if a contradiction is detected.\"\"\"\n",
    "    ## To start, every square can be any digit; then assign values from the grid.\n",
    "    values = dict((s, digits) for s in squares)\n",
    "    for s,d in grid_values(grid).items():\n",
    "        if d in digits and not assign(values, s, d):\n",
    "            return False ## (Fail if we can't assign d to square s.)\n",
    "    return values"
   ]
  },
  {
   "cell_type": "markdown",
   "metadata": {},
   "source": [
    "## Roberto"
   ]
  },
  {
   "cell_type": "code",
   "execution_count": 3,
   "metadata": {},
   "outputs": [],
   "source": [
    "# Esta función se encarga de representar el sudoku en un diccionario\n",
    "# En donde la key es el cuadrante y el valor es un numero o una unidad vacía.\n",
    "def grid_values(grid):\n",
    "    # \"Convert grid into a dict of {square: char} with '0' or '.' for empties.\"\n",
    "    chars = [c for c in grid if c in digits or c in '0.']\n",
    "    \n",
    "    # Se hace una pequeña prueba para confirmar que la nueva representación \n",
    "    # Siga teniendo el mismo tamañan (grid 9x9).\n",
    "    assert len(chars) == 81\n",
    "    \n",
    "    #regresa los valores en un diccionario de tuplas.\n",
    "    return dict(zip(squares, chars))"
   ]
  },
  {
   "cell_type": "markdown",
   "metadata": {},
   "source": [
    "# CONSTRAINT PROPAGATION\n",
    "## Emilio"
   ]
  },
  {
   "cell_type": "code",
   "execution_count": 4,
   "metadata": {},
   "outputs": [],
   "source": [
    "def assign(values, s, d):\n",
    "    \"\"\"Eliminate all the other values (except d) from values[s] and propagate.\n",
    "    Return values, except return False if a contradiction is detected.\"\"\"\n",
    "    other_values = values[s].replace(d, '')\n",
    "    if all(eliminate(values, s, d2) for d2 in other_values):\n",
    "        return values\n",
    "    else:\n",
    "        return False"
   ]
  },
  {
   "cell_type": "markdown",
   "metadata": {},
   "source": [
    "## Roberto"
   ]
  },
  {
   "cell_type": "code",
   "execution_count": 5,
   "metadata": {},
   "outputs": [],
   "source": [
    "# Esta funcion se encarga de eliminar un valor de todos los cuadrantes\n",
    "# values = array de todos los cuadrantes. \n",
    "# s      = el cuadrante del que se quiere eliminar el valor.\n",
    "# d      = el numero o valor que se quiere eliminar.\n",
    "def eliminate(values, s, d):\n",
    "    # Eliminate d from values[s]; propagate when values or places <= 2.\n",
    "    \n",
    "    # Return values, except return False if a contradiction is detected.\n",
    "    if d not in values[s]:\n",
    "        # Already eliminated\n",
    "        return values \n",
    "    \n",
    "    # Se reemplaza el valor d con un espacio vacío.\n",
    "    values[s] = values[s].replace(d,'')\n",
    "    \n",
    "    # No se puede eliminar un valor si la lista ya esta vacía\n",
    "    if len(values[s]) == 0:\n",
    "        # Contradiction: removed last value.\n",
    "        return False\n",
    "    \n",
    "    ## (1) REGLA: \n",
    "    ## If a square has only one possible value, \n",
    "    ## then eliminate that value from the square's peers. \n",
    "    \n",
    "    ## (1) If a square s is reduced to one value d2, then eliminate d2 from the peers.\n",
    "    elif len(values[s]) == 1:\n",
    "        # d2 en este escenario es el único valor restante. Por lo que hay que seguir la regla (1)\n",
    "        d2 = values[s]\n",
    "        if not all(eliminate(values, s2, d2) for s2 in peers[s]):\n",
    "            return False\n",
    "    \n",
    "    ## (2) REGLA: \n",
    "    ## If a unit has only one possible place for a value, \n",
    "    ## then put the value there.\n",
    "    \n",
    "    ## (2) If a unit (ej. C2) u is reduced to only one place for a value d, then put it there.\n",
    "    for u in units[s]:\n",
    "        # Esta variable auxiliar sirve para buscar posibles coordenadas validas para d.\n",
    "        dplaces = [s for s in u if d in values[s]]\n",
    "        \n",
    "        # Aqui no hay posibles lugares validos para d.\n",
    "        if len(dplaces) == 0:\n",
    "            ## Contradiction: no place for this value\n",
    "            return False\n",
    "        \n",
    "        # Aqui hay solo un lugar valido para d.\n",
    "        elif len(dplaces) == 1:\n",
    "            # d can only be in one place in unit; assign it there.\n",
    "                if not assign(values, dplaces[0], d):\n",
    "                    return False\n",
    "                \n",
    "    # Regresar la nueva configuracón de los cuadrantes\n",
    "    return values"
   ]
  },
  {
   "cell_type": "markdown",
   "metadata": {},
   "source": [
    "## Emilio"
   ]
  },
  {
   "cell_type": "code",
   "execution_count": 11,
   "metadata": {},
   "outputs": [],
   "source": [
    "def display(values):\n",
    "    \"Display these values as a 2-D grid.\"\n",
    "    width = 1+max(len(values[s]) for s in squares)\n",
    "    line = '+'.join(['-'*(width*3)]*3)\n",
    "    for r in rows:\n",
    "        print(''.join(values[r+c].center(width)+('|' if c in '36' else ''))\n",
    "                      for c in cols)\n",
    "        if r in 'CF': print(line)\n",
    "    print()"
   ]
  },
  {
   "cell_type": "markdown",
   "metadata": {},
   "source": [
    "# SEARCH AND SOLVE\n",
    "## Roberto"
   ]
  },
  {
   "cell_type": "code",
   "execution_count": 8,
   "metadata": {},
   "outputs": [],
   "source": [
    "#Resolver sudoku\n",
    "\n",
    "# Primero se busca alguna solución o contradicción.\n",
    "# Si no se encuntra alguna, entonces pasar por todos los posibles resutlados.\n",
    "# Si se encuntra un error entonces regresar y considerar otros valores validos (de d en s)\n",
    "\n",
    "def solve(grid): return search(parse_grid(grid))"
   ]
  },
  {
   "cell_type": "markdown",
   "metadata": {},
   "source": [
    "## Emilio"
   ]
  },
  {
   "cell_type": "code",
   "execution_count": 9,
   "metadata": {},
   "outputs": [],
   "source": [
    "def search(values):\n",
    "    \"Using depth-first search and propagation, try all possible values.\"\n",
    "    if values is False:\n",
    "        return False ## Failed earlier\n",
    "    if all(len(values[s]) == 1 for s in squares): \n",
    "        return values ## Solved!\n",
    "    ## Chose the unfilled square s with the fewest possibilities\n",
    "    n,s = min((len(values[s]), s) for s in squares if len(values[s]) > 1)\n",
    "    return some(search(assign(values.copy(), s, d)) \n",
    "\t\tfor d in values[s])"
   ]
  },
  {
   "cell_type": "markdown",
   "metadata": {},
   "source": [
    "## Roberto"
   ]
  },
  {
   "cell_type": "code",
   "execution_count": 10,
   "metadata": {},
   "outputs": [],
   "source": [
    "# Esta función sirve para determinar si un elemento es válido.\n",
    "def some(seq):\n",
    "    # \"Return some element of seq that is true.\"\n",
    "    for e in seq:\n",
    "        if e: return e\n",
    "    return False"
   ]
  },
  {
   "cell_type": "code",
   "execution_count": null,
   "metadata": {},
   "outputs": [],
   "source": []
  }
 ],
 "metadata": {
  "kernelspec": {
   "display_name": "Python 3",
   "language": "python",
   "name": "python3"
  },
  "language_info": {
   "codemirror_mode": {
    "name": "ipython",
    "version": 3
   },
   "file_extension": ".py",
   "mimetype": "text/x-python",
   "name": "python",
   "nbconvert_exporter": "python",
   "pygments_lexer": "ipython3",
   "version": "3.8.5"
  },
  "vscode": {
   "interpreter": {
    "hash": "aee8b7b246df8f9039afb4144a1f6fd8d2ca17a180786b69acc140d282b71a49"
   }
  }
 },
 "nbformat": 4,
 "nbformat_minor": 2
}
