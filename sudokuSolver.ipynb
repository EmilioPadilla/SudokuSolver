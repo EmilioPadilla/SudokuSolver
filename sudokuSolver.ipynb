{
 "cells": [
  {
   "cell_type": "markdown",
   "metadata": {},
   "source": [
    "# Sudoku Solver explained\n",
    "\n",
    "**squares** = A1\n",
    "\n",
    "**unit** = collection of nine squares, being either one full row, column, or box\n",
    "\n",
    "**peers (vecinos)** = squares that share a unit"
   ]
  },
  {
   "cell_type": "markdown",
   "metadata": {},
   "source": [
    "## Reglas\n",
    "- El tablero tiene 9x9 posiciones.\n",
    "- Solo puedes usar valores del 1 al 9\n",
    "- Cada subcuadrante de 3x3 puede contener solo una vez un valor del 1 al 9\n",
    "- Cada columna puede contener solo una vez un valor del 1 al 9\n",
    "- Cada fila puede contener solo una vez un valor del 1 al 9"
   ]
  },
  {
   "cell_type": "code",
   "execution_count": 592,
   "metadata": {},
   "outputs": [
    {
     "name": "stdout",
     "output_type": "stream",
     "text": [
      "['1', '2', '3', '4', '5', '6', '7', '8', '9']\n"
     ]
    }
   ],
   "source": [
    "import time\n",
    "\n",
    "def cross(A, B):\n",
    "    \"\"\" Producto cruz entre A y B. Para hacerlo, iterar en A, y dentro de cada iteración de A iterar \n",
    "    en B. En el segundo nivel de profundidad es donde se realiza la multiplicación \"\"\"\n",
    "    return [a+b for a in A for b in B]\n",
    "\n",
    "digits   = '123456789'\n",
    "rows     = 'ABCDEFGHI'\n",
    "cols     = digits\n",
    "print([c for c in cols])\n",
    "# Hacemos el producto cruz entre filas y columnas para obtener los 81 valores dentro del sudoku\n",
    "squares  = cross(rows, cols)\n",
    "# Hacemos la lista de unidades formando 27 grupos. Esta nos ayudará a identificar las posibles permutaciones\n",
    "unitlist = ([cross(rows, c) for c in cols] +\n",
    "            [cross(r, cols) for r in rows] +\n",
    "            [cross(rs, cs) for rs in ('ABC','DEF','GHI') for cs in ('123','456','789')])\n",
    "# Formamos un objeto que identifique como propiedad el square a identificar, y cada una de las listas \n",
    "# que contienen este valor.\n",
    "units = dict((s, [u for u in unitlist if s in u]) for s in squares)\n",
    "# Formamos una lista que indique todos los squares con los que un square puede estar dentro de la misma\n",
    "# fila, columna, o subcuadrante.\n",
    "peers = dict((s, set(sum(units[s],[]))-set([s])) for s in squares)"
   ]
  },
  {
   "cell_type": "code",
   "execution_count": 593,
   "metadata": {},
   "outputs": [
    {
     "name": "stdout",
     "output_type": "stream",
     "text": [
      "All tests pass.\n"
     ]
    }
   ],
   "source": [
    "# Pruebas para determinar que el sudoku tenga una configuración valida.\n",
    "def test():\n",
    "    \"\"\" Probar que hemos formado las correctas células que nos ayurdarán a resolver el sudoku \"\"\"\n",
    "    # Verificar que el sudoku thenga 81 cuadrados (grid 9x9).\n",
    "    assert len(squares) == 81\n",
    "    \n",
    "    # Verificar que haya 27 unidades posibles (cada cuadrante (9) mas las filas (9) y las \n",
    "    # columnas (9) de cada uno).\n",
    "    assert len(unitlist) == 27\n",
    "    \n",
    "    # Verificar que cada unidad tenga tres elementos con quien esté comparando (cuadrante, fila y \n",
    "    # columna).\n",
    "    assert all(len(units[s]) == 3 for s in squares)\n",
    "    \n",
    "    # Verificar que haya 20 elementos que compartan espacio con un square. Es decir, los del\n",
    "    # subcuadrante, y los de la fila y la columna de ese valor. \n",
    "    assert all(len(peers[s]) == 20 for s in squares)\n",
    "    \n",
    "    # Ejemplo manual que comprueba que dentro de las siguientes filas se encuentre el valor 'C2', y que\n",
    "    # este a su vez sea el valor que se encuentre en la unidad C2\n",
    "    assert units['C2'] == [['A2', 'B2', 'C2', 'D2', 'E2', 'F2', 'G2', 'H2', 'I2'],\n",
    "                           ['C1', 'C2', 'C3', 'C4', 'C5', 'C6', 'C7', 'C8', 'C9'],\n",
    "                           ['A1', 'A2', 'A3', 'B1', 'B2', 'B3', 'C1', 'C2', 'C3']]\n",
    "    \n",
    "    # Verificar que 'C2' comparta espacio con los siguientes valores. Numeramos el subcuadrante\n",
    "    # y los valores restantes en la misma fila y columna de C2. A su vez, que este sea el valor \n",
    "    # contenido en el objeto peers que producimos para 'C2'\n",
    "    assert peers['C2'] == set(['A2', 'B2', 'D2', 'E2', 'F2', 'G2', 'H2', 'I2',\n",
    "                               'C1', 'C3', 'C4', 'C5', 'C6', 'C7', 'C8', 'C9',\n",
    "                               'A1', 'A3', 'B1', 'B3'])\n",
    "    # Si todas las pruebas pasan, imprimirlo.\n",
    "    print('All tests pass.')\n",
    "    \n",
    "test()"
   ]
  },
  {
   "cell_type": "code",
   "execution_count": 594,
   "metadata": {},
   "outputs": [],
   "source": [
    "def parse_grid(grid):\n",
    "    \"\"\" Leemos un grid a partir de una simple linea de texto. Asignamos a cada square un valor, usando\n",
    "    un dict (JS object) para mapear a cada square con su valor, o con un conjunto de sus posibles\n",
    "    valores \"\"\"\n",
    "    # Damos todos los posibles valores a cada square.\n",
    "    values = dict((s, digits) for s in squares)\n",
    "\n",
    "    # Después iteramos en el dict para asignar el valor dado en el input al square, mientras a su vez\n",
    "    # comprobamos que un valor no tenga una incorrecta asignación con base en las reglas del sudoku (Propagación\n",
    "    # de restricciones). Si es el caso, regresamos false a la solución.\n",
    "    for s,d in grid_values(grid).items():\n",
    "        if d in digits and not assign(values, s, d):\n",
    "            return False #Falla si no podemos asignar un (d)ígito a un (s)quare\n",
    "    return values"
   ]
  },
  {
   "cell_type": "code",
   "execution_count": 595,
   "metadata": {},
   "outputs": [],
   "source": [
    "def grid_values(grid):\n",
    "    \"\"\" Representar el sudoku en un diccionario en donde la key es el square y el valor es un \n",
    "    número o una unidad vacía (representado por '.' o '0'). \"\"\"\n",
    "    # chars = [c for c in grid if c in digits or c in '0.']\n",
    "    chars = []\n",
    "    for c in grid:\n",
    "        if c in digits or c in '0.':\n",
    "            chars.append(c)\n",
    "\n",
    "    \n",
    "    # Confirmamos que la nueva representación siga teniendo el mismo tamaño (grid 9x9).\n",
    "    assert len(chars) == 81\n",
    "    \n",
    "    # Regresa los valores en un diccionario de tuplas.\n",
    "    return dict(zip(squares, chars))"
   ]
  },
  {
   "cell_type": "markdown",
   "metadata": {},
   "source": [
    "# Propagación de restricciones\n",
    "Cuando encontramos una de los dos posibles restricciones que nos ayudarán a resolver el sudoku i.e.\n",
    "1. Si un square tiene solo un posible valor, lo eliminamos de sus vecinos\n",
    "2. Si una unidad tiene sólo un lugar posible para un valor, ponemos el valor\n",
    "\n",
    "Esto se propaga para crear mas situaciones de (1) y (2), asignando valores con base en las restricciones que tiene cada lugar."
   ]
  },
  {
   "cell_type": "code",
   "execution_count": 596,
   "metadata": {},
   "outputs": [],
   "source": [
    "def assign(values, s, d):\n",
    "    \"\"\" Eliminar todos los valores de cada square, excepto su dígito asignado \"\"\"\n",
    "    # Reemplazamos todos los dígitos con un espacio vacío \n",
    "    other_values = values[s].replace(d, '')\n",
    "    # Si todos los squares fueron resueltos, regresamos el grid, de lo contrario False\n",
    "    if all(eliminate(values, s, d2) for d2 in other_values):\n",
    "        return values\n",
    "    else:\n",
    "        return False"
   ]
  },
  {
   "cell_type": "code",
   "execution_count": 597,
   "metadata": {},
   "outputs": [],
   "source": [
    "def eliminate(values, s, d):\n",
    "    \"\"\" Eliminar el (d)ígito del valor de otros (s)quares. Propagar cuando los valores o los lugares son menor o igual a 2. \n",
    "    Regresar falso si una contradicción es encontrada. Las contradicciones se definen adentro\n",
    "    values = dict con todos los squares y sus valores\n",
    "    s      = el cuadrante del que se quiere eliminar el valor.\n",
    "    d      = el numero o valor que se quiere eliminar. \"\"\"\n",
    "\n",
    "    # Si el (d)ígito no esta en nuestro (s)quare, ya lo eliminamos previamente\n",
    "    if d not in values[s]:\n",
    "        return values \n",
    "    \n",
    "    # Se reemplaza el valor d con un espacio vacío.\n",
    "    values[s] = values[s].replace(d,'')\n",
    "    \n",
    "    # (1) REGLA: \n",
    "    # CONTRADICCIÓN No se puede eliminar un valor si la lista ya esta vacía\n",
    "    if len(values[s]) == 0:\n",
    "        return False\n",
    "    # Si el (s)quare es reducido a un solo valor d2 (desde assign()), eliminamos ese valor de sus vecinos. \n",
    "    elif len(values[s]) == 1:\n",
    "        # En este escenario d2 es el único valor restante. Por lo que hay que seguir la regla (1)\n",
    "        d2 = values[s]\n",
    "        # Y hacemos llamada recursiva para seguir buscando restricciones en los vecinos del (s2)quare con (d2)ígito en función\n",
    "        if not all(eliminate(values, s2, d2) for s2 in peers[s]):\n",
    "            return False\n",
    "    \n",
    "    # (2) REGLA: \n",
    "    # Si una unidad tiene sólo un lugar posible para un valor, iteramos hasta encontrar donde colocar este valor.\n",
    "    for u in units[s]:\n",
    "        # Guardar las posibles coordenadas válidas para d.\n",
    "        dplaces = [s for s in u if d in values[s]]\n",
    "        \n",
    "        # CONTRADICCIÓN Aqui no hay posibles lugares validos para d.\n",
    "        if len(dplaces) == 0:\n",
    "            return False\n",
    "        # Si encontramos que la relga (2) se cumple i.e. solo hay una coordenada válida, asignamos el valor\n",
    "        elif len(dplaces) == 1:\n",
    "            # Y hacemos llamada recursiva para seguir buscando restricciones\n",
    "                if not assign(values, dplaces[0], d):\n",
    "                    return False\n",
    "                \n",
    "    # Regresar la nueva configuracón de los cuadrantes\n",
    "    return values"
   ]
  },
  {
   "cell_type": "code",
   "execution_count": 598,
   "metadata": {},
   "outputs": [],
   "source": [
    "def display(values):\n",
    "    \"Mostramos los valores en una matriz 2D\"\n",
    "    # Obtenemos la longitud mas larga de todos los squares\n",
    "    maxWidth = max(len(values[s]) for s in squares)\n",
    "    # Hardcode la separación horizontal por formato de lista.\n",
    "    if maxWidth >= 2:\n",
    "        line = [('|' if c in '36' else '-'*maxWidth) for c in cols]\n",
    "    else:\n",
    "        line = ['-----------|','-----------|', '-----------']\n",
    "        \n",
    "    for r in rows:\n",
    "        # Imprimimos el valor dentro de 'values'. Si es la tercer o sexta columna, imprimimos un separador '|'\n",
    "        print([''.join(values[r+c]+('|' if c in '36' else ''))for c in cols])\n",
    "        # Si es la tercer o sexta fila, imprimos una fila separadora\n",
    "        if r in 'CF': print(line)\n",
    "    print"
   ]
  },
  {
   "cell_type": "markdown",
   "metadata": {},
   "source": [
    "# SEARCH AND SOLVE"
   ]
  },
  {
   "cell_type": "code",
   "execution_count": 599,
   "metadata": {},
   "outputs": [],
   "source": [
    "# Resolver sudoku\n",
    "\n",
    "# Si la propagación de contradicciones falla en encontrar la solución. C\n",
    "# Si se encuntra un error entonces regresar y considerar otros valores validos (de d en s)\n",
    "\n",
    "def solve(grid): return search(parse_grid(grid))"
   ]
  },
  {
   "cell_type": "code",
   "execution_count": 600,
   "metadata": {},
   "outputs": [],
   "source": [
    "def search(values):\n",
    "    \"Usamos búsqueda en profundidad.\"\n",
    "    # No encontramos solución y seguimos el depth-first search\n",
    "    if values is False:\n",
    "        return False\n",
    "    # Si todos los (s)quares tienen un solo elemento, terminamos!\n",
    "    if all(len(values[s]) == 1 for s in squares): \n",
    "        return values \n",
    "    # Buscamos el (s)quare sin resolver con menos posibilidades i.e. we choose '134' over '236789'\n",
    "    n,s = min((len(values[s]), s) for s in squares if len(values[s]) > 1)\n",
    "    # Buscamos la solución con una nueva copia de values para hacer varias búsquedas al mismo tiempo sin afectar\n",
    "    # el grid actual. Si un (s)quare fue resuelto, lo regresamos y seguimos búsqueda.\n",
    "    return some(search(assign(values.copy(), s, d)) for d in values[s])"
   ]
  },
  {
   "cell_type": "code",
   "execution_count": 601,
   "metadata": {},
   "outputs": [],
   "source": [
    "def some(seq):\n",
    "    \"\"\" Función OR. Determinar si una opción fue asignada correctamente \"\"\"\n",
    "    for e in seq:\n",
    "        if e: return e\n",
    "    return False"
   ]
  },
  {
   "cell_type": "code",
   "execution_count": 602,
   "metadata": {},
   "outputs": [],
   "source": [
    "def time_solve(grid):\n",
    "    \"\"\" Función para determinar el tiempo que tardó un resolverse un sudoku \"\"\"\n",
    "    # Inicializamos un contador de performance i.e. un contador con la más alta resolución disponible para medir \n",
    "    # una duración corta \n",
    "    start = time.perf_counter()\n",
    "    values = solve(grid)\n",
    "    # Marcamos cuánto se tardo restando el start del actual.\n",
    "    t = time.perf_counter()-start\n",
    "\n",
    "    print('#########          Grid a solucionar    ##########')\n",
    "    display(grid_values(grid))\n",
    "    if values: \n",
    "        print('#########          ✅Solucionado✅       ##########')\n",
    "        display(values)\n",
    "    print('Tiempo=(%.2f seconds)\\n' % t)"
   ]
  },
  {
   "cell_type": "code",
   "execution_count": 603,
   "metadata": {},
   "outputs": [
    {
     "name": "stdout",
     "output_type": "stream",
     "text": [
      "#########           Con depth-first search      ##########\n",
      "#########          Grid a solucionar    ##########\n",
      "['4', '.', '.|', '.', '.', '.|', '8', '.', '5']\n",
      "['.', '3', '.|', '.', '.', '.|', '.', '.', '.']\n",
      "['.', '.', '.|', '7', '.', '.|', '.', '.', '.']\n",
      "['-----------|', '-----------|', '-----------']\n",
      "['.', '2', '.|', '.', '.', '.|', '.', '6', '.']\n",
      "['.', '.', '.|', '.', '8', '.|', '4', '.', '.']\n",
      "['.', '.', '.|', '.', '1', '.|', '.', '.', '.']\n",
      "['-----------|', '-----------|', '-----------']\n",
      "['.', '.', '.|', '6', '.', '3|', '.', '7', '.']\n",
      "['5', '.', '.|', '2', '.', '.|', '.', '.', '.']\n",
      "['1', '.', '4|', '.', '.', '.|', '.', '.', '.']\n",
      "#########          ✅Solucionado✅       ##########\n",
      "['4', '1', '7|', '3', '6', '9|', '8', '2', '5']\n",
      "['6', '3', '2|', '1', '5', '8|', '9', '4', '7']\n",
      "['9', '5', '8|', '7', '2', '4|', '3', '1', '6']\n",
      "['-----------|', '-----------|', '-----------']\n",
      "['8', '2', '5|', '4', '3', '7|', '1', '6', '9']\n",
      "['7', '9', '1|', '5', '8', '6|', '4', '3', '2']\n",
      "['3', '4', '6|', '9', '1', '2|', '7', '5', '8']\n",
      "['-----------|', '-----------|', '-----------']\n",
      "['2', '8', '9|', '6', '4', '3|', '5', '7', '1']\n",
      "['5', '7', '3|', '2', '9', '1|', '6', '8', '4']\n",
      "['1', '6', '4|', '8', '7', '5|', '2', '9', '3']\n",
      "Tiempo=(0.01 seconds)\n",
      "\n"
     ]
    }
   ],
   "source": [
    "grid2 = '4.....8.5.3..........7......2.....6.....8.4......1.......6.3.7.5..2.....1.4......'\n",
    "# print('######### Solo con propagación de restricciones #########')\n",
    "# display(parse_grid(grid2))\n",
    "print('#########           Con depth-first search      ##########')\n",
    "time_solve(grid2)"
   ]
  }
 ],
 "metadata": {
  "kernelspec": {
   "display_name": "Python 3",
   "language": "python",
   "name": "python3"
  },
  "language_info": {
   "codemirror_mode": {
    "name": "ipython",
    "version": 3
   },
   "file_extension": ".py",
   "mimetype": "text/x-python",
   "name": "python",
   "nbconvert_exporter": "python",
   "pygments_lexer": "ipython3",
   "version": "3.9.13"
  },
  "vscode": {
   "interpreter": {
    "hash": "aee8b7b246df8f9039afb4144a1f6fd8d2ca17a180786b69acc140d282b71a49"
   }
  }
 },
 "nbformat": 4,
 "nbformat_minor": 2
}
