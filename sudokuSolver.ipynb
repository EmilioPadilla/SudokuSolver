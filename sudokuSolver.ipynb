{
 "cells": [
  {
   "cell_type": "markdown",
   "metadata": {},
   "source": [
    "**squares** = A1\n",
    "\n",
    "**unit** = collection of nine squares, being either one full row, column, or box\n",
    "\n",
    "**peers** = squares that share a unit"
   ]
  },
  {
   "cell_type": "markdown",
   "metadata": {},
   "source": [
    "## Emilio"
   ]
  },
  {
   "cell_type": "code",
   "execution_count": 22,
   "metadata": {},
   "outputs": [
    {
     "name": "stdout",
     "output_type": "stream",
     "text": [
      "{'A1': {'A7', 'C3', 'A4', 'B3', 'A5', 'A3', 'C2', 'A9', 'H1', 'C1', 'A6', 'A2', 'D1', 'E1', 'A8', 'F1', 'G1', 'I1', 'B2', 'B1'}, 'A2': {'A1', 'A7', 'C3', 'A4', 'H2', 'B3', 'A5', 'I2', 'A3', 'C2', 'A9', 'C1', 'A6', 'F2', 'D2', 'E2', 'A8', 'G2', 'B2', 'B1'}, 'A3': {'A1', 'A7', 'C3', 'A4', 'G3', 'B3', 'A5', 'C2', 'A9', 'C1', 'A6', 'A2', 'D3', 'E3', 'H3', 'A8', 'I3', 'B2', 'B1', 'F3'}, 'A4': {'A1', 'A7', 'A5', 'E4', 'A3', 'C4', 'A9', 'B6', 'C6', 'D4', 'G4', 'H4', 'A6', 'B5', 'I4', 'A8', 'C5', 'F4', 'B4', 'A2'}, 'A5': {'A1', 'A7', 'A4', 'A3', 'C4', 'A9', 'B6', 'I5', 'C6', 'F5', 'A6', 'D5', 'E5', 'B5', 'G5', 'A8', 'H5', 'C5', 'B4', 'A2'}, 'A6': {'A1', 'A7', 'A4', 'A5', 'A3', 'C4', 'A9', 'B6', 'C6', 'F6', 'G6', 'E6', 'B5', 'I6', 'A8', 'C5', 'H6', 'D6', 'B4', 'A2'}, 'A7': {'A1', 'A4', 'A5', 'C9', 'A3', 'F7', 'A9', 'B7', 'E7', 'C7', 'H7', 'A6', 'I7', 'B8', 'A8', 'C8', 'G7', 'A2', 'D7', 'B9'}, 'A8': {'F8', 'A1', 'D8', 'I8', 'A4', 'A7', 'A5', 'C9', 'A3', 'H8', 'A9', 'B7', 'G8', 'C7', 'A6', 'B8', 'C8', 'E8', 'A2', 'B9'}, 'A9': {'A1', 'A7', 'A4', 'I9', 'C9', 'A3', 'A5', 'B7', 'C7', 'A6', 'B8', 'E9', 'A8', 'C8', 'B9', 'F9', 'H9', 'D9', 'A2', 'G9'}, 'B1': {'A1', 'C3', 'B3', 'A3', 'C2', 'B6', 'B7', 'H1', 'C1', 'A2', 'D1', 'E1', 'B8', 'B5', 'F1', 'G1', 'I1', 'B4', 'B2', 'B9'}, 'B2': {'A1', 'C3', 'H2', 'B3', 'I2', 'A3', 'C2', 'B6', 'B7', 'C1', 'F2', 'A2', 'B8', 'D2', 'B5', 'E2', 'G2', 'B4', 'B1', 'B9'}, 'B3': {'A1', 'C3', 'G3', 'A3', 'C2', 'B6', 'B7', 'C1', 'A2', 'B8', 'D3', 'E3', 'H3', 'B5', 'I3', 'B4', 'B2', 'B1', 'F3', 'B9'}, 'B4': {'A4', 'B3', 'A5', 'E4', 'C4', 'C6', 'B6', 'B7', 'D4', 'G4', 'H4', 'A6', 'B8', 'B5', 'I4', 'C5', 'F4', 'B2', 'B1', 'B9'}, 'B5': {'A4', 'B3', 'A5', 'C4', 'I5', 'B6', 'B7', 'C6', 'F5', 'A6', 'D5', 'B8', 'E5', 'G5', 'H5', 'C5', 'B4', 'B2', 'B1', 'B9'}, 'B6': {'A4', 'B3', 'A5', 'C4', 'C6', 'B7', 'F6', 'G6', 'A6', 'E6', 'B8', 'B5', 'I6', 'C5', 'H6', 'D6', 'B4', 'B2', 'B1', 'B9'}, 'B7': {'A7', 'B3', 'C9', 'F7', 'A9', 'B6', 'E7', 'C7', 'H7', 'I7', 'B8', 'B5', 'A8', 'C8', 'B4', 'G7', 'B2', 'B1', 'D7', 'B9'}, 'B8': {'F8', 'A7', 'D8', 'I8', 'B3', 'C9', 'H8', 'A9', 'B6', 'B7', 'G8', 'C7', 'B5', 'A8', 'C8', 'B4', 'E8', 'B2', 'B1', 'B9'}, 'B9': {'A7', 'B3', 'I9', 'C9', 'A9', 'B6', 'B7', 'C7', 'B8', 'B5', 'E9', 'A8', 'C8', 'F9', 'H9', 'B4', 'D9', 'B2', 'B1', 'G9'}, 'C1': {'A1', 'C3', 'B3', 'C9', 'A3', 'C2', 'C4', 'C6', 'H1', 'C7', 'A2', 'D1', 'E1', 'F1', 'G1', 'I1', 'C5', 'C8', 'B2', 'B1'}, 'C2': {'A1', 'C3', 'H2', 'B3', 'C9', 'I2', 'A3', 'C4', 'C6', 'C1', 'C7', 'F2', 'A2', 'D2', 'E2', 'C5', 'G2', 'C8', 'B2', 'B1'}, 'C3': {'A1', 'G3', 'B3', 'C9', 'A3', 'C2', 'C4', 'C6', 'C1', 'C7', 'A2', 'D3', 'E3', 'H3', 'C5', 'C8', 'I3', 'B2', 'B1', 'F3'}, 'C4': {'C3', 'A4', 'A5', 'E4', 'C9', 'C2', 'C6', 'B6', 'D4', 'G4', 'C1', 'C7', 'H4', 'A6', 'B5', 'I4', 'C5', 'F4', 'C8', 'B4'}, 'C5': {'C3', 'A4', 'A5', 'C9', 'C2', 'C4', 'I5', 'B6', 'C6', 'C1', 'C7', 'F5', 'A6', 'D5', 'E5', 'B5', 'G5', 'H5', 'C8', 'B4'}, 'C6': {'C3', 'A4', 'A5', 'C9', 'C2', 'C4', 'B6', 'F6', 'C1', 'C7', 'G6', 'A6', 'E6', 'B5', 'I6', 'C5', 'H6', 'C8', 'D6', 'B4'}, 'C7': {'A7', 'C3', 'C9', 'F7', 'C2', 'C4', 'A9', 'C6', 'B7', 'E7', 'C1', 'H7', 'I7', 'B8', 'A8', 'C5', 'C8', 'G7', 'D7', 'B9'}, 'C8': {'F8', 'A7', 'D8', 'I8', 'C3', 'C9', 'H8', 'C2', 'C4', 'A9', 'C6', 'B7', 'G8', 'C1', 'C7', 'B8', 'A8', 'C5', 'E8', 'B9'}, 'C9': {'A7', 'C3', 'I9', 'C2', 'C4', 'A9', 'C6', 'B7', 'C1', 'C7', 'B8', 'E9', 'A8', 'C5', 'C8', 'B9', 'F9', 'H9', 'D9', 'G9'}, 'D1': {'A1', 'D8', 'H1', 'D4', 'C1', 'F2', 'D5', 'D3', 'E1', 'D2', 'E3', 'E2', 'F1', 'G1', 'I1', 'D6', 'D9', 'B1', 'D7', 'F3'}, 'D2': {'D8', 'H2', 'I2', 'C2', 'D4', 'F2', 'D5', 'D1', 'D3', 'E1', 'E3', 'E2', 'F1', 'G2', 'D6', 'D9', 'B2', 'A2', 'D7', 'F3'}, 'D3': {'C3', 'G3', 'D8', 'B3', 'A3', 'D4', 'F2', 'D5', 'D1', 'E1', 'D2', 'E3', 'H3', 'E2', 'F1', 'I3', 'D6', 'D9', 'D7', 'F3'}, 'D4': {'D8', 'A4', 'E4', 'C4', 'F6', 'G4', 'H4', 'F5', 'E6', 'D5', 'D1', 'D3', 'D2', 'E5', 'I4', 'F4', 'D6', 'B4', 'D9', 'D7'}, 'D5': {'D8', 'A5', 'E4', 'I5', 'D4', 'F6', 'F5', 'E6', 'D1', 'D3', 'D2', 'E5', 'B5', 'G5', 'H5', 'C5', 'F4', 'D6', 'D9', 'D7'}, 'D6': {'D8', 'E4', 'C6', 'B6', 'F6', 'D4', 'F5', 'G6', 'A6', 'E6', 'D5', 'D1', 'D3', 'D2', 'E5', 'I6', 'H6', 'F4', 'D9', 'D7'}, 'D7': {'A7', 'F8', 'D8', 'F7', 'B7', 'E7', 'D4', 'C7', 'H7', 'D5', 'I7', 'G7', 'D1', 'D3', 'D2', 'E9', 'F9', 'D6', 'E8', 'D9'}, 'D8': {'F8', 'I8', 'H8', 'F7', 'E7', 'G8', 'D4', 'D5', 'B8', 'D3', 'D1', 'D2', 'E9', 'A8', 'C8', 'F9', 'D6', 'E8', 'D9', 'D7'}, 'D9': {'F8', 'D8', 'I9', 'C9', 'F7', 'A9', 'E7', 'D4', 'D5', 'D1', 'D3', 'D2', 'E9', 'B9', 'F9', 'H9', 'D6', 'E8', 'D7', 'G9'}, 'E1': {'A1', 'E4', 'H1', 'E7', 'C1', 'F2', 'E6', 'D1', 'D3', 'D2', 'E5', 'E3', 'E9', 'E2', 'F1', 'G1', 'I1', 'E8', 'B1', 'F3'}, 'E2': {'H2', 'E4', 'I2', 'C2', 'E7', 'F2', 'E6', 'D1', 'D3', 'E1', 'D2', 'E5', 'E3', 'E9', 'F1', 'G2', 'E8', 'B2', 'A2', 'F3'}, 'E3': {'C3', 'G3', 'B3', 'E4', 'A3', 'E7', 'F2', 'E6', 'D1', 'D3', 'E1', 'D2', 'E5', 'H3', 'E9', 'E2', 'F1', 'I3', 'E8', 'F3'}, 'E4': {'A4', 'C4', 'E7', 'D4', 'G4', 'F6', 'H4', 'F5', 'E6', 'D5', 'E1', 'E5', 'E3', 'E9', 'I4', 'E2', 'F4', 'D6', 'B4', 'E8'}, 'E5': {'A5', 'E4', 'I5', 'E7', 'D4', 'F6', 'F5', 'E6', 'D5', 'E1', 'B5', 'G5', 'E3', 'E2', 'E9', 'H5', 'C5', 'F4', 'D6', 'E8'}, 'E6': {'E4', 'C6', 'B6', 'E7', 'F6', 'D4', 'F5', 'G6', 'A6', 'D5', 'E1', 'E5', 'E3', 'E9', 'E2', 'I6', 'H6', 'F4', 'D6', 'E8'}, 'E7': {'A7', 'F8', 'D8', 'E4', 'F7', 'B7', 'C7', 'H7', 'E6', 'I7', 'G7', 'E1', 'E5', 'E3', 'E9', 'E2', 'F9', 'E8', 'D9', 'D7'}, 'E8': {'F8', 'D8', 'I8', 'E4', 'H8', 'F7', 'E7', 'G8', 'E6', 'B8', 'E1', 'E5', 'E3', 'E9', 'E2', 'A8', 'C8', 'F9', 'D9', 'D7'}, 'E9': {'F8', 'D8', 'I9', 'C9', 'E4', 'F7', 'A9', 'E7', 'E6', 'E1', 'E5', 'E3', 'E2', 'B9', 'F9', 'H9', 'E8', 'D9', 'D7', 'G9'}, 'F1': {'A1', 'F8', 'F7', 'H1', 'F6', 'C1', 'F5', 'F2', 'D1', 'D3', 'E1', 'D2', 'E3', 'E2', 'G1', 'I1', 'F4', 'F9', 'B1', 'F3'}, 'F2': {'F8', 'H2', 'I2', 'F7', 'C2', 'F6', 'F5', 'D1', 'D3', 'E1', 'D2', 'E3', 'E2', 'F1', 'G2', 'F4', 'F9', 'B2', 'A2', 'F3'}, 'F3': {'F8', 'C3', 'G3', 'B3', 'A3', 'F7', 'F6', 'F5', 'F2', 'D1', 'D3', 'E1', 'D2', 'E3', 'H3', 'E2', 'F1', 'F4', 'I3', 'F9'}, 'F4': {'F8', 'A4', 'E4', 'F7', 'C4', 'D4', 'F6', 'G4', 'H4', 'F5', 'F2', 'E6', 'D5', 'E5', 'I4', 'F1', 'F9', 'D6', 'B4', 'F3'}, 'F5': {'F8', 'A5', 'E4', 'F7', 'I5', 'F6', 'D4', 'F2', 'E6', 'D5', 'E5', 'B5', 'G5', 'H5', 'C5', 'F1', 'F4', 'F9', 'D6', 'F3'}, 'F6': {'F8', 'E4', 'F7', 'C6', 'B6', 'D4', 'F5', 'G6', 'A6', 'F2', 'E6', 'D5', 'E5', 'I6', 'F1', 'H6', 'F4', 'F9', 'D6', 'F3'}, 'F7': {'A7', 'F8', 'D8', 'B7', 'E7', 'F6', 'C7', 'H7', 'F5', 'F2', 'I7', 'G7', 'E9', 'F1', 'F4', 'F9', 'E8', 'D9', 'D7', 'F3'}, 'F8': {'D8', 'I8', 'H8', 'F7', 'E7', 'G8', 'F6', 'F5', 'F2', 'B8', 'E9', 'A8', 'F1', 'C8', 'F4', 'F9', 'E8', 'D9', 'D7', 'F3'}, 'F9': {'F8', 'D8', 'I9', 'C9', 'F7', 'A9', 'E7', 'F6', 'F5', 'F2', 'E9', 'F1', 'F4', 'B9', 'H9', 'E8', 'D9', 'D7', 'F3', 'G9'}, 'G1': {'A1', 'G3', 'H2', 'I2', 'H1', 'G8', 'C1', 'G4', 'G6', 'D1', 'E1', 'H3', 'G5', 'F1', 'I1', 'G2', 'I3', 'G7', 'B1', 'G9'}, 'G2': {'G3', 'H2', 'I2', 'C2', 'H1', 'G8', 'G4', 'G6', 'F2', 'D2', 'H3', 'G5', 'E2', 'G1', 'I1', 'I3', 'G7', 'B2', 'A2', 'G9'}, 'G3': {'C3', 'H2', 'B3', 'A3', 'I2', 'H1', 'G8', 'G4', 'G6', 'D3', 'E3', 'H3', 'G5', 'G1', 'I1', 'G2', 'I3', 'G7', 'F3', 'G9'}, 'G4': {'G3', 'A4', 'E4', 'C4', 'I5', 'D4', 'G8', 'H4', 'G6', 'G5', 'I4', 'I6', 'G1', 'H5', 'H6', 'G2', 'F4', 'B4', 'G7', 'G9'}, 'G5': {'G3', 'A5', 'I5', 'G8', 'G4', 'H4', 'F5', 'G6', 'D5', 'E5', 'B5', 'I4', 'I6', 'H5', 'C5', 'G1', 'H6', 'G2', 'G7', 'G9'}, 'G6': {'G3', 'C6', 'B6', 'I5', 'F6', 'G8', 'G4', 'H4', 'A6', 'E6', 'G5', 'I4', 'I6', 'G1', 'H5', 'H6', 'G2', 'D6', 'G7', 'G9'}, 'G7': {'A7', 'G3', 'I8', 'I9', 'H8', 'F7', 'B7', 'E7', 'G8', 'C7', 'G4', 'H7', 'G6', 'I7', 'G5', 'G1', 'G2', 'H9', 'D7', 'G9'}, 'G8': {'F8', 'G3', 'D8', 'I8', 'I9', 'H8', 'G4', 'H7', 'G6', 'I7', 'B8', 'G5', 'A8', 'G1', 'G2', 'C8', 'H9', 'E8', 'G7', 'G9'}, 'G9': {'G3', 'I8', 'I9', 'C9', 'H8', 'A9', 'G8', 'G4', 'H7', 'G6', 'I7', 'G7', 'E9', 'G5', 'G1', 'G2', 'B9', 'F9', 'H9', 'D9'}, 'H1': {'A1', 'G3', 'H2', 'H8', 'I2', 'C1', 'H4', 'H7', 'D1', 'E1', 'H3', 'F1', 'G1', 'I1', 'H6', 'H5', 'G2', 'I3', 'H9', 'B1'}, 'H2': {'G3', 'H8', 'I2', 'C2', 'H1', 'H4', 'H7', 'F2', 'D2', 'H3', 'E2', 'H5', 'G1', 'I1', 'H6', 'G2', 'I3', 'H9', 'B2', 'A2'}, 'H3': {'C3', 'G3', 'H2', 'B3', 'H8', 'A3', 'I2', 'H1', 'H4', 'H7', 'D3', 'E3', 'H5', 'G1', 'I1', 'H6', 'G2', 'I3', 'H9', 'F3'}, 'H4': {'A4', 'H2', 'E4', 'H8', 'C4', 'I5', 'H1', 'D4', 'G4', 'H7', 'G6', 'H3', 'G5', 'I4', 'I6', 'H5', 'H6', 'F4', 'H9', 'B4'}, 'H5': {'H2', 'A5', 'H8', 'I5', 'H1', 'G4', 'H4', 'H7', 'F5', 'G6', 'D5', 'E5', 'B5', 'G5', 'H3', 'I4', 'I6', 'C5', 'H6', 'H9'}, 'H6': {'H2', 'H8', 'C6', 'B6', 'I5', 'H1', 'F6', 'G4', 'H4', 'H7', 'G6', 'A6', 'E6', 'H3', 'G5', 'I4', 'I6', 'H5', 'D6', 'H9'}, 'H7': {'A7', 'I8', 'H2', 'I9', 'H8', 'F7', 'B7', 'E7', 'H1', 'C7', 'G8', 'H4', 'I7', 'H3', 'H5', 'H6', 'H9', 'G7', 'D7', 'G9'}, 'H8': {'F8', 'D8', 'I8', 'H2', 'I9', 'H1', 'G8', 'H4', 'H7', 'I7', 'B8', 'H3', 'A8', 'H5', 'H6', 'C8', 'H9', 'E8', 'G7', 'G9'}, 'H9': {'I8', 'H2', 'I9', 'C9', 'H8', 'A9', 'H1', 'G8', 'H4', 'H7', 'I7', 'G7', 'H3', 'E9', 'H5', 'H6', 'B9', 'F9', 'D9', 'G9'}, 'I1': {'A1', 'G3', 'I8', 'H2', 'I9', 'I2', 'I5', 'H1', 'C1', 'I7', 'D1', 'E1', 'H3', 'I4', 'I6', 'F1', 'G1', 'G2', 'I3', 'B1'}, 'I2': {'G3', 'I8', 'H2', 'I9', 'C2', 'I5', 'H1', 'F2', 'I7', 'D2', 'H3', 'E2', 'I6', 'I4', 'I1', 'G1', 'G2', 'I3', 'B2', 'A2'}, 'I3': {'C3', 'G3', 'I8', 'H2', 'B3', 'I9', 'A3', 'I2', 'I5', 'H1', 'I7', 'D3', 'E3', 'H3', 'I4', 'I6', 'I1', 'G1', 'G2', 'F3'}, 'I4': {'A4', 'I8', 'I9', 'E4', 'I2', 'C4', 'I5', 'D4', 'G4', 'H4', 'G6', 'I7', 'G5', 'I6', 'I1', 'H5', 'H6', 'F4', 'I3', 'B4'}, 'I5': {'I8', 'A5', 'I9', 'I2', 'G4', 'H4', 'F5', 'G6', 'I7', 'D5', 'E5', 'B5', 'G5', 'I4', 'I6', 'H5', 'C5', 'I1', 'H6', 'I3'}, 'I6': {'I8', 'I9', 'I2', 'C6', 'B6', 'I5', 'F6', 'G4', 'H4', 'G6', 'A6', 'E6', 'I7', 'G5', 'I4', 'I1', 'H5', 'H6', 'I3', 'D6'}, 'I7': {'A7', 'I8', 'I9', 'H8', 'I2', 'F7', 'I5', 'B7', 'E7', 'G8', 'C7', 'H7', 'I4', 'I6', 'I1', 'I3', 'H9', 'G7', 'D7', 'G9'}, 'I8': {'F8', 'D8', 'I9', 'H8', 'I2', 'I5', 'G8', 'H7', 'I7', 'B8', 'I4', 'I6', 'A8', 'I1', 'C8', 'I3', 'H9', 'E8', 'G7', 'G9'}, 'I9': {'I8', 'C9', 'I2', 'H8', 'A9', 'I5', 'G8', 'H7', 'I7', 'G7', 'E9', 'I4', 'I6', 'I1', 'I3', 'F9', 'H9', 'B9', 'D9', 'G9'}}\n"
     ]
    }
   ],
   "source": [
    "import json\n",
    "\n",
    "def cross(A, B):\n",
    "    \"Cross product of elements in A and elements in B.\"\n",
    "    return [a+b for a in A for b in B]\n",
    "\n",
    "digits   = '123456789'\n",
    "rows     = 'ABCDEFGHI'\n",
    "cols     = digits\n",
    "squares  = cross(rows, cols)\n",
    "unitlist = ([cross(rows, c) for c in cols] +\n",
    "            [cross(r, cols) for r in rows] +\n",
    "            [cross(rs, cs) for rs in ('ABC','DEF','GHI') for cs in ('123','456','789')])\n",
    "units = dict((s, [u for u in unitlist if s in u]) for s in squares)\n",
    "peers = dict((s, set(sum(units[s],[]))-set([s])) for s in squares)\n",
    "print(peers)\n",
    "\n",
    "# print([u for u in unitlist])\n"
   ]
  },
  {
   "cell_type": "markdown",
   "metadata": {},
   "source": [
    "## Roberto"
   ]
  },
  {
   "cell_type": "code",
   "execution_count": 23,
   "metadata": {},
   "outputs": [],
   "source": [
    "def test():\n",
    "    \"A set of unit tests.\"\n",
    "    assert len(squares) == 81\n",
    "    assert len(unitlist) == 27\n",
    "    assert all(len(units[s]) == 3 for s in squares)\n",
    "    assert all(len(peers[s]) == 20 for s in squares)\n",
    "    assert units['C2'] == [['A2', 'B2', 'C2', 'D2', 'E2', 'F2', 'G2', 'H2', 'I2'],\n",
    "                           ['C1', 'C2', 'C3', 'C4', 'C5', 'C6', 'C7', 'C8', 'C9'],\n",
    "                           ['A1', 'A2', 'A3', 'B1', 'B2', 'B3', 'C1', 'C2', 'C3']]\n",
    "    assert peers['C2'] == set(['A2', 'B2', 'D2', 'E2', 'F2', 'G2', 'H2', 'I2',\n",
    "                               'C1', 'C3', 'C4', 'C5', 'C6', 'C7', 'C8', 'C9',\n",
    "                               'A1', 'A3', 'B1', 'B3'])\n",
    "    print('All tests pass.')"
   ]
  },
  {
   "cell_type": "markdown",
   "metadata": {},
   "source": [
    "## Emilio"
   ]
  },
  {
   "cell_type": "code",
   "execution_count": 24,
   "metadata": {},
   "outputs": [],
   "source": [
    "def parse_grid(grid):\n",
    "    \"\"\"Convert grid to a dict of possible values, {square: digits}, or\n",
    "    return False if a contradiction is detected.\"\"\"\n",
    "    ## To start, every square can be any digit; then assign values from the grid.\n",
    "    values = dict((s, digits) for s in squares)\n",
    "    for s,d in grid_values(grid).items():\n",
    "        if d in digits and not assign(values, s, d):\n",
    "            return False ## (Fail if we can't assign d to square s.)\n",
    "    return values"
   ]
  },
  {
   "cell_type": "markdown",
   "metadata": {},
   "source": [
    "## Roberto"
   ]
  },
  {
   "cell_type": "code",
   "execution_count": 25,
   "metadata": {},
   "outputs": [],
   "source": [
    "def grid_values(grid):\n",
    "    \"Convert grid into a dict of {square: char} with '0' or '.' for empties.\"\n",
    "    chars = [c for c in grid if c in digits or c in '0.']\n",
    "    assert len(chars) == 81\n",
    "    return dict(zip(squares, chars))"
   ]
  },
  {
   "cell_type": "markdown",
   "metadata": {},
   "source": [
    "# CONSTRAINT PROPAGATION\n",
    "## Emilio"
   ]
  },
  {
   "cell_type": "code",
   "execution_count": 26,
   "metadata": {},
   "outputs": [],
   "source": [
    "def assign(values, s, d):\n",
    "    \"\"\"Eliminate all the other values (except d) from values[s] and propagate.\n",
    "    Return values, except return False if a contradiction is detected.\"\"\"\n",
    "    other_values = values[s].replace(d, '')\n",
    "    if all(eliminate(values, s, d2) for d2 in other_values):\n",
    "        return values\n",
    "    else:\n",
    "        return False"
   ]
  },
  {
   "cell_type": "markdown",
   "metadata": {},
   "source": [
    "## Roberto"
   ]
  },
  {
   "cell_type": "code",
   "execution_count": 27,
   "metadata": {},
   "outputs": [],
   "source": [
    "def eliminate(values, s, d):\n",
    "    \"\"\"Eliminate d from values[s]; propagate when values or places <= 2.\n",
    "    Return values, except return False if a contradiction is detected.\"\"\"\n",
    "    if d not in values[s]:\n",
    "        return values ## Already eliminated\n",
    "    values[s] = values[s].replace(d,'')\n",
    "    ## (1) If a square s is reduced to one value d2, then eliminate d2 from the peers.\n",
    "    if len(values[s]) == 0:\n",
    "        return False ## Contradiction: removed last value\n",
    "    elif len(values[s]) == 1:\n",
    "        d2 = values[s]\n",
    "        if not all(eliminate(values, s2, d2) for s2 in peers[s]):\n",
    "            return False\n",
    "    ## (2) If a unit u is reduced to only one place for a value d, then put it there.\n",
    "    for u in units[s]:\n",
    "        dplaces = [s for s in u if d in values[s]]\n",
    "        if len(dplaces) == 0:\n",
    "            return False ## Contradiction: no place for this value\n",
    "        elif len(dplaces) == 1:\n",
    "            # d can only be in one place in unit; assign it there\n",
    "                if not assign(values, dplaces[0], d):\n",
    "                    return False\n",
    "    return values"
   ]
  },
  {
   "cell_type": "markdown",
   "metadata": {},
   "source": [
    "## Emilio"
   ]
  },
  {
   "cell_type": "code",
   "execution_count": 28,
   "metadata": {},
   "outputs": [
    {
     "ename": "SyntaxError",
     "evalue": "invalid syntax (805916166.py, line 2)",
     "output_type": "error",
     "traceback": [
      "\u001b[0;36m  Input \u001b[0;32mIn [28]\u001b[0;36m\u001b[0m\n\u001b[0;31m    \"Display these values as a 2-D grid.\"NB\u001b[0m\n\u001b[0m                                         ^\u001b[0m\n\u001b[0;31mSyntaxError\u001b[0m\u001b[0;31m:\u001b[0m invalid syntax\n"
     ]
    }
   ],
   "source": [
    "def display(values):\n",
    "    \"Display these values as a 2-D grid.\"NB\n",
    "    width = 1+max(len(values[s]) for s in squares)\n",
    "    line = '+'.join(['-'*(width*3)]*3)\n",
    "    for r in rows:\n",
    "        print(''.join(values[r+c].center(width)+('|' if c in '36' else ''))\n",
    "                      for c in cols)\n",
    "        if r in 'CF': print(line)\n",
    "    print()"
   ]
  },
  {
   "cell_type": "markdown",
   "metadata": {},
   "source": [
    "# SEARCH AND SOLVE\n",
    "## Roberto"
   ]
  },
  {
   "cell_type": "code",
   "execution_count": null,
   "metadata": {},
   "outputs": [],
   "source": [
    "def solve(grid): return search(parse_grid(grid))"
   ]
  },
  {
   "cell_type": "markdown",
   "metadata": {},
   "source": [
    "## Emilio"
   ]
  },
  {
   "cell_type": "code",
   "execution_count": null,
   "metadata": {},
   "outputs": [],
   "source": [
    "def search(values):\n",
    "    \"Using depth-first search and propagation, try all possible values.\"\n",
    "    if values is False:\n",
    "        return False ## Failed earlier\n",
    "    if all(len(values[s]) == 1 for s in squares): \n",
    "        return values ## Solved!\n",
    "    ## Chose the unfilled square s with the fewest possibilities\n",
    "    n,s = min((len(values[s]), s) for s in squares if len(values[s]) > 1)\n",
    "    return some(search(assign(values.copy(), s, d)) \n",
    "\t\tfor d in values[s])"
   ]
  },
  {
   "cell_type": "markdown",
   "metadata": {},
   "source": [
    "## Roberto"
   ]
  },
  {
   "cell_type": "code",
   "execution_count": null,
   "metadata": {},
   "outputs": [],
   "source": [
    "def some(seq):\n",
    "    \"Return some element of seq that is true.\"\n",
    "    for e in seq:\n",
    "        if e: return e\n",
    "    return False"
   ]
  }
 ],
 "metadata": {
  "kernelspec": {
   "display_name": "Python 3.9.13 64-bit",
   "language": "python",
   "name": "python3"
  },
  "language_info": {
   "codemirror_mode": {
    "name": "ipython",
    "version": 3
   },
   "file_extension": ".py",
   "mimetype": "text/x-python",
   "name": "python",
   "nbconvert_exporter": "python",
   "pygments_lexer": "ipython3",
   "version": "3.9.13"
  },
  "orig_nbformat": 4,
  "vscode": {
   "interpreter": {
    "hash": "aee8b7b246df8f9039afb4144a1f6fd8d2ca17a180786b69acc140d282b71a49"
   }
  }
 },
 "nbformat": 4,
 "nbformat_minor": 2
}
